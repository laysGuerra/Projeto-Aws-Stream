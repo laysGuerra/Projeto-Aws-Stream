{
 "cells": [
  {
   "cell_type": "code",
   "execution_count": 1,
   "metadata": {},
   "outputs": [
    {
     "ename": "KeyboardInterrupt",
     "evalue": "",
     "output_type": "error",
     "traceback": [
      "\u001b[1;31m---------------------------------------------------------------------------\u001b[0m",
      "\u001b[1;31mKeyboardInterrupt\u001b[0m                         Traceback (most recent call last)",
      "Cell \u001b[1;32mIn[1], line 19\u001b[0m\n\u001b[0;32m     17\u001b[0m registro \u001b[39m=\u001b[39m {\u001b[39m'\u001b[39m\u001b[39midtemp\u001b[39m\u001b[39m'\u001b[39m: \u001b[39mstr\u001b[39m(\u001b[39mid\u001b[39m), \u001b[39m'\u001b[39m\u001b[39mdado\u001b[39m\u001b[39m'\u001b[39m: \u001b[39mstr\u001b[39m(dados), \u001b[39m'\u001b[39m\u001b[39mtipo\u001b[39m\u001b[39m'\u001b[39m: \u001b[39m'\u001b[39m\u001b[39mUso\u001b[39m\u001b[39m'\u001b[39m, \u001b[39m'\u001b[39m\u001b[39mtimestamp\u001b[39m\u001b[39m'\u001b[39m: \u001b[39mstr\u001b[39m(datetime\u001b[39m.\u001b[39mnow())}\n\u001b[0;32m     18\u001b[0m conexao\u001b[39m.\u001b[39mput_record(StreamName\u001b[39m=\u001b[39m\u001b[39m'\u001b[39m\u001b[39mgpucontrole\u001b[39m\u001b[39m'\u001b[39m, Data \u001b[39m=\u001b[39m json\u001b[39m.\u001b[39mdumps(registro), PartitionKey\u001b[39m=\u001b[39m\u001b[39m'\u001b[39m\u001b[39m02\u001b[39m\u001b[39m'\u001b[39m)\n\u001b[1;32m---> 19\u001b[0m time\u001b[39m.\u001b[39msleep(\u001b[39m10\u001b[39m)\n",
      "\u001b[1;31mKeyboardInterrupt\u001b[0m: "
     ]
    }
   ],
   "source": [
    "# % 6 a 61\n",
    "\n",
    "import boto3\n",
    "import json\n",
    "from random import uniform\n",
    "import time\n",
    "from datetime import datetime\n",
    "\n",
    "\n",
    "conexao = boto3.client('kinesis',aws_access_key_id='SUACHAVEDEACESSO', aws_secret_access_key='SUACHAVEDEACESSOSECRETA',\n",
    "                       region_name='us-east-2')\n",
    "\n",
    "id = 0\n",
    "while True:\n",
    "    dados = uniform(6,61)\n",
    "    id += 1;\n",
    "    registro = {'idtemp': str(id), 'dado': str(dados), 'tipo': 'Uso', 'timestamp': str(datetime.now())}\n",
    "    conexao.put_record(StreamName='gpucontrole', Data = json.dumps(registro), PartitionKey='02')\n",
    "    time.sleep(10)"
   ]
  }
 ],
 "metadata": {
  "kernelspec": {
   "display_name": "Python 3",
   "language": "python",
   "name": "python3"
  },
  "language_info": {
   "codemirror_mode": {
    "name": "ipython",
    "version": 3
   },
   "file_extension": ".py",
   "mimetype": "text/x-python",
   "name": "python",
   "nbconvert_exporter": "python",
   "pygments_lexer": "ipython3",
   "version": "3.11.0"
  },
  "orig_nbformat": 4
 },
 "nbformat": 4,
 "nbformat_minor": 2
}
